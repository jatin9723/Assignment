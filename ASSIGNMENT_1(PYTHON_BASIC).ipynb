{
  "nbformat": 4,
  "nbformat_minor": 0,
  "metadata": {
    "colab": {
      "provenance": []
    },
    "kernelspec": {
      "name": "python3",
      "display_name": "Python 3"
    },
    "language_info": {
      "name": "python"
    }
  },
  "cells": [
    {
      "cell_type": "markdown",
      "source": [
        "                                 # PYTHON BASICS ASSIGNMENT:- PRACTICAL QUESTION\n"
      ],
      "metadata": {
        "id": "NitOUDndaVHJ"
      }
    },
    {
      "cell_type": "code",
      "source": [
        "# Write a Python program to print \"Hello, World!\"\n",
        "print(\"HELLO, WORLD!\")"
      ],
      "metadata": {
        "colab": {
          "base_uri": "https://localhost:8080/"
        },
        "id": "A7IBkemDaNAi",
        "outputId": "6fd08323-4086-40be-fdfe-ffa33f5bd537"
      },
      "execution_count": 5,
      "outputs": [
        {
          "output_type": "stream",
          "name": "stdout",
          "text": [
            "HELLO, WORLD!\n"
          ]
        }
      ]
    },
    {
      "cell_type": "code",
      "source": [
        "# Write a Python program that displays your name and age.\n",
        "name = \"Jatin Kumar\"\n",
        "age = 24\n",
        "print(\"Name:\", name)\n",
        "print(\"Age:\", age)"
      ],
      "metadata": {
        "colab": {
          "base_uri": "https://localhost:8080/"
        },
        "id": "aDixAOtNcHk4",
        "outputId": "8a90aae1-4cf3-4efb-81b7-d15ca3f95125"
      },
      "execution_count": 16,
      "outputs": [
        {
          "output_type": "stream",
          "name": "stdout",
          "text": [
            "Name: Jatin Kumar\n",
            "Age: 24\n"
          ]
        }
      ]
    },
    {
      "cell_type": "code",
      "source": [
        "# Write code to print all the pre-defined keywords in Python using the keyword library.\n",
        "import keyword\n",
        "print(\"python keyword:\")\n",
        "print(keyword.kwlist)\n",
        "\n"
      ],
      "metadata": {
        "colab": {
          "base_uri": "https://localhost:8080/"
        },
        "id": "bSt8IvUHc-mt",
        "outputId": "0987bad1-025e-4309-bf80-8c28f50bbb78"
      },
      "execution_count": 18,
      "outputs": [
        {
          "output_type": "stream",
          "name": "stdout",
          "text": [
            "python keyword:\n",
            "['False', 'None', 'True', 'and', 'as', 'assert', 'async', 'await', 'break', 'class', 'continue', 'def', 'del', 'elif', 'else', 'except', 'finally', 'for', 'from', 'global', 'if', 'import', 'in', 'is', 'lambda', 'nonlocal', 'not', 'or', 'pass', 'raise', 'return', 'try', 'while', 'with', 'yield']\n"
          ]
        }
      ]
    },
    {
      "cell_type": "code",
      "source": [
        "# Write a program that checks if a given word is a Python keyword.\n",
        "import keyword\n",
        "word = input(\"Enter a word: \")\n",
        "if keyword.iskeyword(word):\n",
        "    print(f\"{word} is a Python keyword.\")\n",
        "else:\n",
        "    print(f\"{word} is not a Python keyword.\")\n",
        "\n"
      ],
      "metadata": {
        "colab": {
          "base_uri": "https://localhost:8080/"
        },
        "id": "UzmYtnh7lKH-",
        "outputId": "2a0c5b1e-502d-43e5-f666-e3e1ebf8187f"
      },
      "execution_count": 27,
      "outputs": [
        {
          "output_type": "stream",
          "name": "stdout",
          "text": [
            "Enter a word: if\n",
            "if is a Python keyword.\n"
          ]
        }
      ]
    },
    {
      "cell_type": "code",
      "source": [
        "# Create a list and tuple in Python, and demonstrate how attempting to change an element works differently for each.\n",
        "my_list = [1, 2, 3]\n",
        "my_tuple = (1, 2, 3)\n",
        "\n",
        "# Modify list\n",
        "my_list[0] = 100\n",
        "print(\"Modified list:\", my_list)\n",
        "\n",
        "# Try modifying tuple\n",
        "try:\n",
        "    my_tuple[0] = 100\n",
        "except TypeError as e:\n",
        "    print(\"Error modifying tuple:\", e)\n"
      ],
      "metadata": {
        "colab": {
          "base_uri": "https://localhost:8080/"
        },
        "id": "p3aZghpjnRWQ",
        "outputId": "591eeef9-9ecf-4292-9116-d49bd66536e2"
      },
      "execution_count": 28,
      "outputs": [
        {
          "output_type": "stream",
          "name": "stdout",
          "text": [
            "Modified list: [100, 2, 3]\n",
            "Error modifying tuple: 'tuple' object does not support item assignment\n"
          ]
        }
      ]
    },
    {
      "cell_type": "code",
      "source": [
        "# Write a function to demonstrate the behavior of mutable and immutable arguments.\n",
        "def modify_immutable(x):\n",
        "    x += 10\n",
        "    print(\"Inside function (immutable):\", x)\n",
        "\n",
        "def modify_mutable(lst):\n",
        "    lst.append(4)\n",
        "    print(\"Inside function (mutable):\", lst)\n",
        "\n"
      ],
      "metadata": {
        "id": "0ywbXV-UdzBK"
      },
      "execution_count": 6,
      "outputs": []
    },
    {
      "cell_type": "code",
      "source": [
        "#  Write a program that performs basic arithmetic operations on two user-input numbers.\n",
        "a = float(input(\"Enter first number: \"))\n",
        "b = float(input(\"Enter second number: \"))\n",
        "\n",
        "print(\"Addition:\", a + b)\n",
        "print(\"Subtraction:\", a - b)\n",
        "print(\"Multiplication:\", a * b)\n",
        "print(\"Division:\", a / b if b != 0 else \"Cannot divide by zero\")"
      ],
      "metadata": {
        "colab": {
          "base_uri": "https://localhost:8080/"
        },
        "id": "cdOsWpeCe_Yj",
        "outputId": "35d74670-a30d-4856-97df-a048f288b381"
      },
      "execution_count": 3,
      "outputs": [
        {
          "output_type": "stream",
          "name": "stdout",
          "text": [
            "Enter first number: 6\n",
            "Enter second number: 3\n",
            "Addition: 9.0\n",
            "Subtraction: 3.0\n",
            "Multiplication: 18.0\n",
            "Division: 2.0\n"
          ]
        }
      ]
    },
    {
      "cell_type": "code",
      "source": [
        "#  Write a program to demonstrate the use of logical operators.\n",
        "x = 10\n",
        "y = 20\n",
        "\n",
        "print(\"x =\", x)\n",
        "print(\"y =\", y)\n",
        "\n",
        "print(\"(x > 5) and (y < 25):\", (x > 5) and (y < 25))\n",
        "print(\"(x < 5) or (y > 15):\", (x < 5) or (y > 15))\n",
        "print(\"not (x == 10):\", not (x == 10))"
      ],
      "metadata": {
        "colab": {
          "base_uri": "https://localhost:8080/"
        },
        "id": "zshoynrhIciC",
        "outputId": "08cb305c-e843-4950-cd35-c5ab7ee69689"
      },
      "execution_count": 7,
      "outputs": [
        {
          "output_type": "stream",
          "name": "stdout",
          "text": [
            "x = 10\n",
            "y = 20\n",
            "(x > 5) and (y < 25): True\n",
            "(x < 5) or (y > 15): True\n",
            "not (x == 10): False\n"
          ]
        }
      ]
    },
    {
      "cell_type": "code",
      "source": [
        "# Write a Python program to convert user input from string to integer, float, and boolean types.\n",
        "user_input = input(\"Enter a value:\")\n",
        "\n",
        "int_value = int(user_input)\n",
        "print(\"As Integer:\", int_value)\n",
        "\n",
        "float_value = float(user_input)\n",
        "print(\"As Float:\", float_value)\n",
        "\n",
        "bool_value = bool(user_input)\n",
        "print(\"As Boolean:\", bool_value)"
      ],
      "metadata": {
        "colab": {
          "base_uri": "https://localhost:8080/"
        },
        "id": "Xlda1UmROJrc",
        "outputId": "3ecb84bc-7d3b-472f-83c4-0cb9cf7b227b"
      },
      "execution_count": 9,
      "outputs": [
        {
          "output_type": "stream",
          "name": "stdout",
          "text": [
            "Enter a value:10\n",
            "As Integer: 10\n",
            "As Float: 10.0\n",
            "As Boolean: True\n"
          ]
        }
      ]
    },
    {
      "cell_type": "code",
      "source": [
        "# Write code to demonstrate type casting with list elements.\n",
        "x = [\"1\",\"2\",\"3\",\"4\",\"5\",\"6\"]\n",
        "list_to_int = [int(i) for i in x]\n",
        "print(list_to_int)"
      ],
      "metadata": {
        "colab": {
          "base_uri": "https://localhost:8080/"
        },
        "id": "w0dTLrX9O2C2",
        "outputId": "fbc312f3-deee-4d4b-d581-cf1260e2622f"
      },
      "execution_count": 19,
      "outputs": [
        {
          "output_type": "stream",
          "name": "stdout",
          "text": [
            "[1, 2, 3, 4, 5, 6]\n"
          ]
        }
      ]
    },
    {
      "cell_type": "code",
      "source": [
        "# Write a program that checks if a number is positive, negative, or zero.\n",
        "num = float(input(\"Enter a number: \"))\n",
        "\n",
        "if num > 0:\n",
        "    print(\"The number is positive.\")\n",
        "elif num < 0:\n",
        "    print(\"The number is negative.\")\n",
        "else:\n",
        "    print(\"The number is zero.\")"
      ],
      "metadata": {
        "colab": {
          "base_uri": "https://localhost:8080/"
        },
        "id": "sJkuC9nLQLV-",
        "outputId": "c455fb04-382c-455e-cde3-a653d87c87d3"
      },
      "execution_count": 20,
      "outputs": [
        {
          "output_type": "stream",
          "name": "stdout",
          "text": [
            "Enter a number: 10\n",
            "The number is positive.\n"
          ]
        }
      ]
    },
    {
      "cell_type": "code",
      "source": [
        "num = float(input(\"Enter a number: \"))\n",
        "\n",
        "if num > 0:\n",
        "    print(\"The number is positive.\")\n",
        "elif num < 0:\n",
        "    print(\"The number is negative.\")\n",
        "else:\n",
        "    print(\"The number is zero.\")"
      ],
      "metadata": {
        "colab": {
          "base_uri": "https://localhost:8080/"
        },
        "id": "zoDs3zSmQeVO",
        "outputId": "7c6c860d-ed11-44e7-df98-2b4c635a1d9d"
      },
      "execution_count": 21,
      "outputs": [
        {
          "output_type": "stream",
          "name": "stdout",
          "text": [
            "Enter a number: -10\n",
            "The number is negative.\n"
          ]
        }
      ]
    },
    {
      "cell_type": "code",
      "source": [
        "num = float(input(\"Enter a number: \"))\n",
        "\n",
        "if num > 0:\n",
        "    print(\"The number is positive.\")\n",
        "elif num < 0:\n",
        "    print(\"The number is negative.\")\n",
        "else:\n",
        "    print(\"The number is zero.\")\n",
        ""
      ],
      "metadata": {
        "colab": {
          "base_uri": "https://localhost:8080/"
        },
        "id": "JCP7akuHSMz-",
        "outputId": "73a72619-82f7-429e-b0fe-ddab4847d228"
      },
      "execution_count": 22,
      "outputs": [
        {
          "output_type": "stream",
          "name": "stdout",
          "text": [
            "Enter a number: 0\n",
            "The number is zero.\n"
          ]
        }
      ]
    },
    {
      "cell_type": "code",
      "source": [
        "# Write a for loop to print numbers from 1 to 10.\n",
        "for i in range(1,11):\n",
        "    print(i)"
      ],
      "metadata": {
        "colab": {
          "base_uri": "https://localhost:8080/"
        },
        "id": "DcmlCrtySidx",
        "outputId": "32c668ab-1248-4de7-8fe4-fcdf958fd80b"
      },
      "execution_count": 23,
      "outputs": [
        {
          "output_type": "stream",
          "name": "stdout",
          "text": [
            "1\n",
            "2\n",
            "3\n",
            "4\n",
            "5\n",
            "6\n",
            "7\n",
            "8\n",
            "9\n",
            "10\n"
          ]
        }
      ]
    },
    {
      "cell_type": "code",
      "source": [
        "#Write a Python program to find the sum of all even numbers between 1 and 50.\n",
        "i=1\n",
        "sum=0\n",
        "while(i<=50):\n",
        "  if(i%2==0):\n",
        "    sum=sum+i\n",
        "  i=i+1\n",
        "  print(\"sum of even numbers from 1 to 50 =\",sum)"
      ],
      "metadata": {
        "colab": {
          "base_uri": "https://localhost:8080/"
        },
        "id": "EhKjmWbxU3tk",
        "outputId": "a0419e56-4f24-48d8-e479-fbc390ca267a"
      },
      "execution_count": 24,
      "outputs": [
        {
          "output_type": "stream",
          "name": "stdout",
          "text": [
            "sum of even numbers from 1 to 50 = 0\n",
            "sum of even numbers from 1 to 50 = 2\n",
            "sum of even numbers from 1 to 50 = 2\n",
            "sum of even numbers from 1 to 50 = 6\n",
            "sum of even numbers from 1 to 50 = 6\n",
            "sum of even numbers from 1 to 50 = 12\n",
            "sum of even numbers from 1 to 50 = 12\n",
            "sum of even numbers from 1 to 50 = 20\n",
            "sum of even numbers from 1 to 50 = 20\n",
            "sum of even numbers from 1 to 50 = 30\n",
            "sum of even numbers from 1 to 50 = 30\n",
            "sum of even numbers from 1 to 50 = 42\n",
            "sum of even numbers from 1 to 50 = 42\n",
            "sum of even numbers from 1 to 50 = 56\n",
            "sum of even numbers from 1 to 50 = 56\n",
            "sum of even numbers from 1 to 50 = 72\n",
            "sum of even numbers from 1 to 50 = 72\n",
            "sum of even numbers from 1 to 50 = 90\n",
            "sum of even numbers from 1 to 50 = 90\n",
            "sum of even numbers from 1 to 50 = 110\n",
            "sum of even numbers from 1 to 50 = 110\n",
            "sum of even numbers from 1 to 50 = 132\n",
            "sum of even numbers from 1 to 50 = 132\n",
            "sum of even numbers from 1 to 50 = 156\n",
            "sum of even numbers from 1 to 50 = 156\n",
            "sum of even numbers from 1 to 50 = 182\n",
            "sum of even numbers from 1 to 50 = 182\n",
            "sum of even numbers from 1 to 50 = 210\n",
            "sum of even numbers from 1 to 50 = 210\n",
            "sum of even numbers from 1 to 50 = 240\n",
            "sum of even numbers from 1 to 50 = 240\n",
            "sum of even numbers from 1 to 50 = 272\n",
            "sum of even numbers from 1 to 50 = 272\n",
            "sum of even numbers from 1 to 50 = 306\n",
            "sum of even numbers from 1 to 50 = 306\n",
            "sum of even numbers from 1 to 50 = 342\n",
            "sum of even numbers from 1 to 50 = 342\n",
            "sum of even numbers from 1 to 50 = 380\n",
            "sum of even numbers from 1 to 50 = 380\n",
            "sum of even numbers from 1 to 50 = 420\n",
            "sum of even numbers from 1 to 50 = 420\n",
            "sum of even numbers from 1 to 50 = 462\n",
            "sum of even numbers from 1 to 50 = 462\n",
            "sum of even numbers from 1 to 50 = 506\n",
            "sum of even numbers from 1 to 50 = 506\n",
            "sum of even numbers from 1 to 50 = 552\n",
            "sum of even numbers from 1 to 50 = 552\n",
            "sum of even numbers from 1 to 50 = 600\n",
            "sum of even numbers from 1 to 50 = 600\n",
            "sum of even numbers from 1 to 50 = 650\n"
          ]
        }
      ]
    },
    {
      "cell_type": "code",
      "source": [
        "# ANOTHER METHOD TO FIND\n",
        "total = 0\n",
        "for i in range(2, 51, 2):\n",
        "    total += i\n",
        "print(\"Sum of even numbers from 1 to 50:\", total)"
      ],
      "metadata": {
        "colab": {
          "base_uri": "https://localhost:8080/"
        },
        "id": "WxrZ3s0SVP_V",
        "outputId": "9481bf05-2798-475b-fd34-30372cc8a657"
      },
      "execution_count": 25,
      "outputs": [
        {
          "output_type": "stream",
          "name": "stdout",
          "text": [
            "Sum of even numbers from 1 to 50: 650\n"
          ]
        }
      ]
    },
    {
      "cell_type": "code",
      "source": [
        "# Write a program to reverse a string using a while loop.\n",
        "text = input(\"Enter a string: \")\n",
        "reversed_text = \"\"\n",
        "i = len(text) - 1\n",
        "\n",
        "while i >= 0:\n",
        "    reversed_text += text[i]\n",
        "    i -= 1\n",
        "\n",
        "print(\"Reversed string:\", reversed_text)"
      ],
      "metadata": {
        "colab": {
          "base_uri": "https://localhost:8080/"
        },
        "id": "9PXj2dl3VpEp",
        "outputId": "6d6613bd-eeea-41ac-cbad-bbad9d9ec123"
      },
      "execution_count": 26,
      "outputs": [
        {
          "output_type": "stream",
          "name": "stdout",
          "text": [
            "Enter a string: JATIN\n",
            "Reversed string: NITAJ\n"
          ]
        }
      ]
    },
    {
      "cell_type": "code",
      "source": [
        "# Write a Python program to calculate the factorial of a number provided by the user using a while loopnum =int(input(\"enter a number : \"))\n",
        "fact = 1\n",
        "\n",
        "while(num !=0):\n",
        "  fact = fact * num\n",
        "  print(fact)\n",
        "\n"
      ],
      "metadata": {
        "id": "9t_0lScvV4LM"
      },
      "execution_count": 28,
      "outputs": []
    },
    {
      "cell_type": "code",
      "source": [],
      "metadata": {
        "id": "qvIABuPCWbmz"
      },
      "execution_count": null,
      "outputs": []
    }
  ]
}